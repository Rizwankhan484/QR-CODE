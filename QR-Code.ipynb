{
 "cells": [
  {
   "cell_type": "code",
   "execution_count": 1,
   "id": "6bbcda2f",
   "metadata": {},
   "outputs": [],
   "source": [
    "import qrcode as khan\n",
    "link=\"https://l.instagram.com/?u=http%3A%2F%2Fwww.tiktok.com%2F%40rizwan_khan_484&e=AT2MF1Cr5g1LbtKxGqsC7SwDwbAlQZRXhnxTam_Y7l9yRogGqdP2Kkw3qtz_8FMmjFQm4qNzK5Pe0itIGca-mxyDsfmPNLjSYx0FC94\"\n",
    "img=khan.make(link)\n",
    "img.save('instagram.png')"
   ]
  },
  {
   "cell_type": "code",
   "execution_count": null,
   "id": "9d4bd80c",
   "metadata": {},
   "outputs": [],
   "source": []
  }
 ],
 "metadata": {
  "kernelspec": {
   "display_name": "Python 3 (ipykernel)",
   "language": "python",
   "name": "python3"
  },
  "language_info": {
   "codemirror_mode": {
    "name": "ipython",
    "version": 3
   },
   "file_extension": ".py",
   "mimetype": "text/x-python",
   "name": "python",
   "nbconvert_exporter": "python",
   "pygments_lexer": "ipython3",
   "version": "3.11.4"
  }
 },
 "nbformat": 4,
 "nbformat_minor": 5
}
